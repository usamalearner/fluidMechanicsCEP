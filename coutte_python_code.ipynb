{
 "cells": [
  {
   "cell_type": "code",
   "execution_count": null,
   "id": "54ac7fc7",
   "metadata": {},
   "outputs": [],
   "source": [
    "#importing libraries Numpy alias as np and matplotlib alis as plt\n",
    "import matplotlib.pyplot as plt\n",
    "import numpy as np\n",
    "# Roll no ME-19079 \n",
    "# A = 0, B = 7, C = 9,\n",
    "b = 7;\n",
    "U = 9;\n",
    "y = np.array([np.arange(0,b,0.01)])\n",
    "# loop part\n",
    "for p in np.array([np.arange(-5,6)]).reshape(-1):\n",
    "    u = np.multiply(-((np.multiply(p,U)) / b**2) , ( y**2 - np.multiply(b , y))) + np.multiply( U , ((1 - y / b)))\n",
    "    plt.plot(u,y, color='teal', marker='o', linestyle='dashed', linewidth=1, markersize=1)\n",
    "    # Add title and axis names\n",
    "    plt.title(\"y vs u in Coutte Flow\")\n",
    "    plt.xlabel(\"u\");\n",
    "    plt.ylabel(\"y\");\n",
    "# Show graph \n",
    "plt.show()"
   ]
  },
  {
   "cell_type": "code",
   "execution_count": null,
   "id": "3bcdf3e6",
   "metadata": {},
   "outputs": [],
   "source": []
  }
 ],
 "metadata": {
  "kernelspec": {
   "display_name": "Python 3",
   "language": "python",
   "name": "python3"
  },
  "language_info": {
   "codemirror_mode": {
    "name": "ipython",
    "version": 3
   },
   "file_extension": ".py",
   "mimetype": "text/x-python",
   "name": "python",
   "nbconvert_exporter": "python",
   "pygments_lexer": "ipython3",
   "version": "3.8.8"
  }
 },
 "nbformat": 4,
 "nbformat_minor": 5
}
